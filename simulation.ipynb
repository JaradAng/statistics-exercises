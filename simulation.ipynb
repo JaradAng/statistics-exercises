{
 "cells": [
  {
   "cell_type": "code",
   "execution_count": 37,
   "metadata": {},
   "outputs": [],
   "source": [
    "import pandas as pd\n",
    "import numpy as np\n"
   ]
  },
  {
   "cell_type": "code",
   "execution_count": 3,
   "metadata": {},
   "outputs": [
    {
     "data": {
      "text/plain": [
       "0.16589"
      ]
     },
     "execution_count": 3,
     "metadata": {},
     "output_type": "execute_result"
    }
   ],
   "source": [
    "# How likely is it that you roll doubles when rolling two dice?\n",
    "\n",
    "first_dice = np.random.choice([1, 2, 3, 4, 5, 6], size = 100000)\n",
    "second_dice= np.random.choice([1, 2, 3, 4, 5, 6], size = 100000)\n",
    "doubles = (first_dice == second_dice)\n",
    "doubles.mean()"
   ]
  },
  {
   "cell_type": "code",
   "execution_count": 22,
   "metadata": {},
   "outputs": [
    {
     "data": {
      "text/plain": [
       "0.637133"
      ]
     },
     "execution_count": 22,
     "metadata": {},
     "output_type": "execute_result"
    }
   ],
   "source": [
    "# If you flip 8 coins, what is the probability of getting exactly 3 heads? What is the probability of getting more than 3 heads?\n",
    "#heads = 1\n",
    "#tails = 0\n",
    "coin_toss = [1, 0]\n",
    "flip_times = 8\n",
    "sim_size = 1000000\n",
    "flips = np.random.choice(coin_toss, size = (sim_size, flip_times))\n",
    "heads = flips.sum(axis = 1)\n",
    "\n",
    "three_heads = ( heads == 3)\n",
    "more_than = ( heads > 3)\n",
    "\n",
    "three_heads.mean()\n",
    "# ~21%\n",
    "more_than.mean()\n",
    "# ~64%\n",
    "\n"
   ]
  },
  {
   "cell_type": "code",
   "execution_count": 18,
   "metadata": {},
   "outputs": [
    {
     "data": {
      "text/plain": [
       "0.062171"
      ]
     },
     "execution_count": 18,
     "metadata": {},
     "output_type": "execute_result"
    }
   ],
   "source": [
    "# There are approximitely 3 web development cohorts for every 1 data science cohort at Codeup. Assuming that Codeup randomly selects an alumni to put on a billboard, \n",
    "# what are the odds that the two billboards I drive past both have data science students on them\n",
    "# 25% chance of data student on builboard since 4 possibiites total with only one being a data student\n",
    "# Student either is data or not so we can assume binary result like coin flip with a 1,0 outcome\n",
    "# 1 = data student \n",
    "##selected_student = [1, 0] do not need this variable\n",
    "##\n",
    "p_of_is_data_stu = 0.25\n",
    "sim_size = n_rows = 1_000_000\n",
    "\n",
    "#sees the billboard twice so have 2 opportunities\n",
    "board_sighting = n_cols = 2\n",
    "\n",
    "drive_bys = np.random.random((sim_size, board_sighting))\n",
    "\n",
    "# there is a data student in the billoboard if the probability is less than the prob of p_of_is_data_stu\n",
    "is_data_stu = drive_bys < p_of_is_data_stu\n",
    "\n",
    "# set the axis to one 1 and then = to 2 to see if both the bilboard have a data student on it. theoretically this should be = .25 * .25 and it is\n",
    "(is_data_stu.sum(axis=1) == 2).mean()\n",
    "\n",
    "## ~ 6%"
   ]
  },
  {
   "cell_type": "code",
   "execution_count": 33,
   "metadata": {},
   "outputs": [
    {
     "data": {
      "text/plain": [
       "0.66983"
      ]
     },
     "execution_count": 33,
     "metadata": {},
     "output_type": "execute_result"
    }
   ],
   "source": [
    "# Codeup students buy, on average, 3 poptart packages with a standard deviation of 1.5 a day from the snack vending machine. \n",
    "# If on monday the machine is restocked with 17 poptart packages, \n",
    "# how likely is it that I will be able to buy some poptarts on Friday afternoon? \n",
    "# (Remember, if you have mean and standard deviation, use the np.random.normal) You'll need to make a judgement call on how to handle some of your values\n",
    "# std = 1.5, mean = 3\n",
    "\n",
    "\n",
    "# Assume 5 cols for the 5 days of the week\n",
    "vend_visits = n_cols = 5\n",
    "n_sims = 100000\n",
    "\n",
    "buys_poptarts = np.random.normal(3, 1.5, size = (n_sims, vend_visits))\n",
    "\n",
    "# want to deal with whole numbers becuase you can't buy fraction of poptarts\n",
    "buys_poptarts = buys_poptarts.round()\n",
    "\n",
    "#adding up all the poptars bought throughout the week\n",
    "buys_poptarts = buys_poptarts.sum(axis=1)\n",
    "\n",
    "# if less than 17 there will be pop tarts to buy\n",
    "friday_chance = buys_poptarts < 17\n",
    "\n",
    "friday_chance.mean()\n",
    "#got a 67% chance that there will be poptarts left on friday"
   ]
  },
  {
   "cell_type": "code",
   "execution_count": 36,
   "metadata": {},
   "outputs": [
    {
     "data": {
      "text/plain": [
       "0.212141"
      ]
     },
     "execution_count": 36,
     "metadata": {},
     "output_type": "execute_result"
    }
   ],
   "source": [
    "# Compare Heights\n",
    "\n",
    "# Men have an average height of 178 cm and standard deviation of 8cm.\n",
    "# Women have a mean of 170, sd = 6cm.\n",
    "# Since you have means and standard deviations, you can use np.random.normal to generate observations.\n",
    "# If a man and woman are chosen at random, what is the likelihood the woman is taller than the man?\n",
    "\n",
    "# Men mean 178, std 8\n",
    "# Women mean 170, std 6 \n",
    "\n",
    "# Generate random mens height\n",
    "man_height = np.random.normal(178, 8, size = 1000000)\n",
    "\n",
    "#Generate random womens height\n",
    "woman_height = np.random.normal(170, 6, size=1000000)\n",
    "\n",
    "#see if woman is taller than man\n",
    "woman_taller = woman_height > man_height\n",
    "\n",
    "woman_taller.mean()\n",
    "# 21% chance of being taller"
   ]
  },
  {
   "cell_type": "code",
   "execution_count": 46,
   "metadata": {},
   "outputs": [
    {
     "data": {
      "text/plain": [
       "0.1642"
      ]
     },
     "execution_count": 46,
     "metadata": {},
     "output_type": "execute_result"
    }
   ],
   "source": [
    "# When installing anaconda on a student's computer, there's a 1 in 250 chance that the download is corrupted and the installation fails. \n",
    "# What are the odds that after having 50 students download anaconda, no one has an installation issue? 100 students?\n",
    "\n",
    "# What is the probability that we observe an installation issue within the first 150 students that download anaconda?\n",
    "\n",
    "# How likely is it that 450 students all download anaconda without an issue?\n",
    "rows = n_rows = 100_000\n",
    "prob_of_corruption = 1/250 # == .004\n",
    "\n",
    "prob_of_no_corr = 0.996\n",
    "\n",
    "fifty_kids = n_cols = 50\n",
    "\n",
    "hundred_kids = n_cols = 100\n",
    "\n",
    "hun_fif_kids = n_cols =150\n",
    "\n",
    "all_kids = n_cols = 450\n",
    "\n",
    "fifty_tries = np.random.random((rows, fifty_kids))\n",
    "fifty_success = fifty_tries < prob_of_no_corr\n",
    "(fifty_success.sum(axis=1)==50).mean()\n",
    "# ~82% chance of no corruption\n",
    "\n",
    "\n",
    "hundred_tries = np.random.random((rows, hundred_kids))\n",
    "hundred_success = hundred_tries < prob_of_no_corr\n",
    "(hundred_success.sum(axis=1)==100).mean()\n",
    "# 67% of no corruption\n",
    "\n",
    "hun_fif_tries = np.random.random((rows, hun_fif_kids))\n",
    "hun_fif_but_corruption = hun_fif_tries < prob_of_corruption\n",
    "(hun_fif_but_corruption.sum(axis=1) > 0).mean()\n",
    "# ~ 45% chance someone encounters an issue\n",
    "\n",
    "no_error_for_450 = np.random.random((rows, all_kids))\n",
    "all_succeed = no_error_for_450 < prob_of_no_corr\n",
    "(all_succeed.sum(axis=1)==450).mean()\n",
    "# ~16% chance that no one in 450 students experience an issue"
   ]
  },
  {
   "cell_type": "code",
   "execution_count": 52,
   "metadata": {},
   "outputs": [
    {
     "data": {
      "text/plain": [
       "0.99986"
      ]
     },
     "execution_count": 52,
     "metadata": {},
     "output_type": "execute_result"
    }
   ],
   "source": [
    "# There's a 70% chance on any given day that there will be at least one food truck at Travis Park.\n",
    "#  However, you haven't seen a food truck there in 3 days. How unlikely is this?\n",
    "\n",
    "# How likely is it that a food truck will show up sometime this week?\n",
    "#seeing truck is yes or no or 1 and 0, 1 = sees the truck\n",
    "sees_truck = [1, 0]\n",
    "prob_of_truck_in_tp = .7\n",
    "no_days_no_truck = 3\n",
    "n_rows = 100000\n",
    "\n",
    "seeing_truck = np.random.choice(sees_truck, p=[.7, .3], size = (n_rows, no_days_no_truck))\n",
    "seeing_truck\n",
    "\n",
    "really_not_seeing_a_single_truck = (seeing_truck.sum(axis=1)== 0).mean()\n",
    "\n",
    "really_not_seeing_a_single_truck\n",
    "# ~2.6% chance of not seeing truck in 3 days\n",
    "\n",
    "all_week_no_truck = 7\n",
    "\n",
    "seeing_truck_week = np.random.choice(sees_truck, p = [.7, .3], size = (n_rows, all_week_no_truck))\n",
    "no_truck_all_week  = (seeing_truck_week.sum(axis=1) > 0).mean()\n",
    "\n",
    "no_truck_all_week\n",
    "# great than 99%"
   ]
  },
  {
   "cell_type": "code",
   "execution_count": 13,
   "metadata": {},
   "outputs": [
    {
     "data": {
      "text/plain": [
       "0.5093"
      ]
     },
     "execution_count": 13,
     "metadata": {},
     "output_type": "execute_result"
    }
   ],
   "source": [
    "# If 23 people are in the same room, what are the odds that two of them share a birthday? What if it's 20 people? 40?\n",
    "# I didnt need to make the variables as it would have been easier to just type in the numbers. It allowed me to think tho\n",
    "twenty_three = 23\n",
    "\n",
    "twenty = 20\n",
    "\n",
    "forty = 40\n",
    "\n",
    "year = range(1, 365)\n",
    "\n",
    "b_day = np.random.choice(year, size = (100000, twenty_three))\n",
    "\n",
    "b_day_df = pd.DataFrame(b_day)\n",
    "\n",
    "(b_day_df.nunique(axis=1)<23).mean()"
   ]
  },
  {
   "cell_type": "code",
   "execution_count": 58,
   "metadata": {},
   "outputs": [
    {
     "data": {
      "text/plain": [
       "0.41241"
      ]
     },
     "execution_count": 58,
     "metadata": {},
     "output_type": "execute_result"
    }
   ],
   "source": [
    "b_day = np.random.choice(year, size = (100000, twenty))\n",
    "\n",
    "b_day_df = pd.DataFrame(b_day)\n",
    "\n",
    "(b_day_df.nunique(axis=1)<20).mean()"
   ]
  },
  {
   "cell_type": "code",
   "execution_count": 59,
   "metadata": {},
   "outputs": [
    {
     "data": {
      "text/plain": [
       "0.89266"
      ]
     },
     "execution_count": 59,
     "metadata": {},
     "output_type": "execute_result"
    }
   ],
   "source": [
    "b_day = np.random.choice(year, size = (100000, forty))\n",
    "\n",
    "b_day_df = pd.DataFrame(b_day)\n",
    "\n",
    "(b_day_df.nunique(axis=1)<40).mean()"
   ]
  },
  {
   "cell_type": "markdown",
   "metadata": {},
   "source": [
    "### Bonus Q's"
   ]
  },
  {
   "cell_type": "code",
   "execution_count": 63,
   "metadata": {},
   "outputs": [
    {
     "data": {
      "text/plain": [
       "14.66"
      ]
     },
     "execution_count": 63,
     "metadata": {},
     "output_type": "execute_result"
    }
   ],
   "source": [
    "wizard_one_die = [1, 2, 3, 4]\n",
    "roll_times = 6\n",
    "sim_size = 10\n",
    "\n",
    "rolls = np.random.choice(wizard_one_die, size = (sim_size, roll_times))\n",
    "damage = np.random.choice(wizard_one_die, size = (sim_size, roll_times))\n",
    "hp = rolls.sum(axis = 1)\n",
    "hp.mean()\n",
    "\n",
    "damage_df = pd.DataFrame(damage)\n",
    "#15.5\n",
    "\n",
    "wizard_two_die = [1, 2, 3, 4, 5, 6]\n",
    "w2_roll_times = 4\n",
    "sim_size = 10\n",
    "\n",
    "\n",
    "rolls = np.random.choice(wizard_one_die, size = (sim_size, w2_roll_times))\n",
    "hp2 = rolls.sum(axis = 1)\n",
    "hp2.mean()\n",
    "\n",
    "##10.3\n",
    "\n",
    "hp2_df = pd.DataFrame(hp2)\n",
    "\n",
    "#14.66"
   ]
  },
  {
   "cell_type": "code",
   "execution_count": 64,
   "metadata": {},
   "outputs": [
    {
     "data": {
      "text/plain": [
       "10.0"
      ]
     },
     "execution_count": 64,
     "metadata": {},
     "output_type": "execute_result"
    }
   ],
   "source": [
    "wizard_one_die = [1, 2, 3, 4]\n",
    "roll_times = 6\n",
    "sim_size = 100\n",
    "\n",
    "rolls = np.random.choice(wizard_one_die, size = (sim_size, roll_times))\n",
    "hp = rolls.sum(axis = 1)\n",
    "hp.mean()\n",
    "\n",
    "#14.66\n",
    "\n",
    "wizard_two_die = [1, 2, 3, 4, 5, 6]\n",
    "w2_roll_times = 4\n",
    "sim_size = 100\n",
    "\n",
    "\n",
    "rolls = np.random.choice(wizard_one_die, size = (sim_size, w2_roll_times))\n",
    "hp2 = rolls.sum(axis = 1)\n",
    "hp2.mean()\n",
    "\n",
    "##10"
   ]
  },
  {
   "cell_type": "code",
   "execution_count": 68,
   "metadata": {},
   "outputs": [
    {
     "data": {
      "text/plain": [
       "10.0081"
      ]
     },
     "execution_count": 68,
     "metadata": {},
     "output_type": "execute_result"
    }
   ],
   "source": [
    "wizard_one_die = [1, 2, 3, 4]\n",
    "roll_times = 6\n",
    "sim_size = 10000\n",
    "\n",
    "rolls = np.random.choice(wizard_one_die, size = (sim_size, roll_times))\n",
    "hp = rolls.sum(axis = 1)\n",
    "hp.mean()\n",
    "\n",
    "#14.997\n",
    "\n",
    "wizard_two_die = [1, 2, 3, 4, 5, 6]\n",
    "w2_roll_times = 4\n",
    "sim_size = 10000\n",
    "\n",
    "\n",
    "rolls = np.random.choice(wizard_one_die, size = (sim_size, w2_roll_times))\n",
    "hp2 = rolls.sum(axis = 1)\n",
    "hp2.mean()\n",
    "\n",
    "#10"
   ]
  },
  {
   "cell_type": "code",
   "execution_count": 40,
   "metadata": {},
   "outputs": [],
   "source": [
    "# def mageduel(x):\n",
    "#     df = pd.DataFrame()\n",
    "#     df[\"hp1\"] = pd.DataFrame(np.random.randint(1,5, size= (x, 6)).sum(axis=1))\n",
    "#     # df['damage1'] = pd.DataFrame(np.random.randint(1,5, size= (x, 6)).sum(axis=1))\n",
    "#     df['hp2'] = pd.DataFrame(np.random.randint(1,7, size= (x, 4)).sum(axis=1))\n",
    "#     # df['damage2'] = pd.DataFrame(np.random.randint(1,7, size= (x, 4)).sum(axis=1))\n",
    "#     return df\n",
    "\n",
    "\n",
    "    \n",
    "# def winner(row):\n",
    "#     health = row['hp1']\n",
    "#     health2 =  row['hp2']\n",
    " \n",
    "#     wiz_1_damage_roll = np.random.choice(range(1,5,), 6).sum(axis=1)\n",
    "#     wiz_2_damage_roll = np.random.choice(range(1,7), 6).sum(axis=1)\n",
    "#     while health > 0 and health2 > 0:\n",
    "        \n",
    "#         if  wiz_1_damage_roll >= health2:\n",
    "#             return True\n",
    "#         elif health2 > 0:\n",
    "#             if wiz_2_damage_roll >= health:\n",
    "#                 return False\n",
    "        \n",
    "\n"
   ]
  },
  {
   "cell_type": "code",
   "execution_count": 43,
   "metadata": {},
   "outputs": [],
   "source": [
    "def mageduel(x):\n",
    "    df = pd.DataFrame()\n",
    "    df[\"hp1\"] = pd.DataFrame(np.random.randint(1,5, size= (x, 6)).sum(axis=1))\n",
    "\n",
    "    df['hp2'] = pd.DataFrame(np.random.randint(1,7, size= (x, 4)).sum(axis=1))\n",
    "   \n",
    "    return df\n",
    "\n",
    "\n",
    "    \n",
    "def winner(row):\n",
    "    # Record the starting HPs\n",
    "    wiz1_hp = row[0]\n",
    "    wiz2_hp =  row[1]\n",
    "\n",
    "    # Keep fighting until someone goes down\n",
    "    while wiz1_hp > 0 and wiz2_hp > 0:\n",
    "        wiz1_hp -= np.random.choice(range(1,5,), 6).sum(axis=1)\n",
    "        wiz2_hp -= np.random.choice(range(1,7), 4).sum(axis=1)\n",
    "    \n",
    "    # Since wiz1 goes first, if wiz 2 is down he wins.  Otherwise he loses\n",
    "    if wiz2_hp <= 0:\n",
    "        return True\n",
    "    else:\n",
    "        return False"
   ]
  },
  {
   "cell_type": "code",
   "execution_count": 44,
   "metadata": {},
   "outputs": [
    {
     "data": {
      "text/html": [
       "<div>\n",
       "<style scoped>\n",
       "    .dataframe tbody tr th:only-of-type {\n",
       "        vertical-align: middle;\n",
       "    }\n",
       "\n",
       "    .dataframe tbody tr th {\n",
       "        vertical-align: top;\n",
       "    }\n",
       "\n",
       "    .dataframe thead th {\n",
       "        text-align: right;\n",
       "    }\n",
       "</style>\n",
       "<table border=\"1\" class=\"dataframe\">\n",
       "  <thead>\n",
       "    <tr style=\"text-align: right;\">\n",
       "      <th></th>\n",
       "      <th>hp1</th>\n",
       "      <th>hp2</th>\n",
       "    </tr>\n",
       "  </thead>\n",
       "  <tbody>\n",
       "    <tr>\n",
       "      <th>0</th>\n",
       "      <td>14</td>\n",
       "      <td>18</td>\n",
       "    </tr>\n",
       "    <tr>\n",
       "      <th>1</th>\n",
       "      <td>15</td>\n",
       "      <td>12</td>\n",
       "    </tr>\n",
       "    <tr>\n",
       "      <th>2</th>\n",
       "      <td>9</td>\n",
       "      <td>19</td>\n",
       "    </tr>\n",
       "    <tr>\n",
       "      <th>3</th>\n",
       "      <td>18</td>\n",
       "      <td>16</td>\n",
       "    </tr>\n",
       "    <tr>\n",
       "      <th>4</th>\n",
       "      <td>17</td>\n",
       "      <td>12</td>\n",
       "    </tr>\n",
       "    <tr>\n",
       "      <th>5</th>\n",
       "      <td>13</td>\n",
       "      <td>13</td>\n",
       "    </tr>\n",
       "    <tr>\n",
       "      <th>6</th>\n",
       "      <td>18</td>\n",
       "      <td>15</td>\n",
       "    </tr>\n",
       "    <tr>\n",
       "      <th>7</th>\n",
       "      <td>9</td>\n",
       "      <td>18</td>\n",
       "    </tr>\n",
       "    <tr>\n",
       "      <th>8</th>\n",
       "      <td>17</td>\n",
       "      <td>14</td>\n",
       "    </tr>\n",
       "    <tr>\n",
       "      <th>9</th>\n",
       "      <td>11</td>\n",
       "      <td>19</td>\n",
       "    </tr>\n",
       "  </tbody>\n",
       "</table>\n",
       "</div>"
      ],
      "text/plain": [
       "   hp1  hp2\n",
       "0   14   18\n",
       "1   15   12\n",
       "2    9   19\n",
       "3   18   16\n",
       "4   17   12\n",
       "5   13   13\n",
       "6   18   15\n",
       "7    9   18\n",
       "8   17   14\n",
       "9   11   19"
      ]
     },
     "execution_count": 44,
     "metadata": {},
     "output_type": "execute_result"
    }
   ],
   "source": [
    "duels = mageduel(10)\n",
    "duels"
   ]
  },
  {
   "cell_type": "code",
   "execution_count": 45,
   "metadata": {},
   "outputs": [
    {
     "ename": "AxisError",
     "evalue": "axis 1 is out of bounds for array of dimension 1",
     "output_type": "error",
     "traceback": [
      "\u001b[0;31m---------------------------------------------------------------------------\u001b[0m",
      "\u001b[0;31mAxisError\u001b[0m                                 Traceback (most recent call last)",
      "\u001b[1;32m/Users/jarad/codeup_data_science/statistics-exercises/simulation.ipynb Cell 19'\u001b[0m in \u001b[0;36m<cell line: 1>\u001b[0;34m()\u001b[0m\n\u001b[0;32m----> <a href='vscode-notebook-cell:/Users/jarad/codeup_data_science/statistics-exercises/simulation.ipynb#ch0000019?line=0'>1</a>\u001b[0m duels[\u001b[39m'\u001b[39m\u001b[39mwins\u001b[39m\u001b[39m'\u001b[39m] \u001b[39m=\u001b[39m duels\u001b[39m.\u001b[39;49mapply(winner, axis\u001b[39m=\u001b[39;49m\u001b[39m1\u001b[39;49m)\n\u001b[1;32m      <a href='vscode-notebook-cell:/Users/jarad/codeup_data_science/statistics-exercises/simulation.ipynb#ch0000019?line=2'>3</a>\u001b[0m duels\n",
      "File \u001b[0;32m/opt/homebrew/anaconda3/lib/python3.9/site-packages/pandas/core/frame.py:8839\u001b[0m, in \u001b[0;36mDataFrame.apply\u001b[0;34m(self, func, axis, raw, result_type, args, **kwargs)\u001b[0m\n\u001b[1;32m   <a href='file:///opt/homebrew/anaconda3/lib/python3.9/site-packages/pandas/core/frame.py?line=8827'>8828</a>\u001b[0m \u001b[39mfrom\u001b[39;00m \u001b[39mpandas\u001b[39;00m\u001b[39m.\u001b[39;00m\u001b[39mcore\u001b[39;00m\u001b[39m.\u001b[39;00m\u001b[39mapply\u001b[39;00m \u001b[39mimport\u001b[39;00m frame_apply\n\u001b[1;32m   <a href='file:///opt/homebrew/anaconda3/lib/python3.9/site-packages/pandas/core/frame.py?line=8829'>8830</a>\u001b[0m op \u001b[39m=\u001b[39m frame_apply(\n\u001b[1;32m   <a href='file:///opt/homebrew/anaconda3/lib/python3.9/site-packages/pandas/core/frame.py?line=8830'>8831</a>\u001b[0m     \u001b[39mself\u001b[39m,\n\u001b[1;32m   <a href='file:///opt/homebrew/anaconda3/lib/python3.9/site-packages/pandas/core/frame.py?line=8831'>8832</a>\u001b[0m     func\u001b[39m=\u001b[39mfunc,\n\u001b[0;32m   (...)\u001b[0m\n\u001b[1;32m   <a href='file:///opt/homebrew/anaconda3/lib/python3.9/site-packages/pandas/core/frame.py?line=8836'>8837</a>\u001b[0m     kwargs\u001b[39m=\u001b[39mkwargs,\n\u001b[1;32m   <a href='file:///opt/homebrew/anaconda3/lib/python3.9/site-packages/pandas/core/frame.py?line=8837'>8838</a>\u001b[0m )\n\u001b[0;32m-> <a href='file:///opt/homebrew/anaconda3/lib/python3.9/site-packages/pandas/core/frame.py?line=8838'>8839</a>\u001b[0m \u001b[39mreturn\u001b[39;00m op\u001b[39m.\u001b[39;49mapply()\u001b[39m.\u001b[39m__finalize__(\u001b[39mself\u001b[39m, method\u001b[39m=\u001b[39m\u001b[39m\"\u001b[39m\u001b[39mapply\u001b[39m\u001b[39m\"\u001b[39m)\n",
      "File \u001b[0;32m/opt/homebrew/anaconda3/lib/python3.9/site-packages/pandas/core/apply.py:727\u001b[0m, in \u001b[0;36mFrameApply.apply\u001b[0;34m(self)\u001b[0m\n\u001b[1;32m    <a href='file:///opt/homebrew/anaconda3/lib/python3.9/site-packages/pandas/core/apply.py?line=723'>724</a>\u001b[0m \u001b[39melif\u001b[39;00m \u001b[39mself\u001b[39m\u001b[39m.\u001b[39mraw:\n\u001b[1;32m    <a href='file:///opt/homebrew/anaconda3/lib/python3.9/site-packages/pandas/core/apply.py?line=724'>725</a>\u001b[0m     \u001b[39mreturn\u001b[39;00m \u001b[39mself\u001b[39m\u001b[39m.\u001b[39mapply_raw()\n\u001b[0;32m--> <a href='file:///opt/homebrew/anaconda3/lib/python3.9/site-packages/pandas/core/apply.py?line=726'>727</a>\u001b[0m \u001b[39mreturn\u001b[39;00m \u001b[39mself\u001b[39;49m\u001b[39m.\u001b[39;49mapply_standard()\n",
      "File \u001b[0;32m/opt/homebrew/anaconda3/lib/python3.9/site-packages/pandas/core/apply.py:851\u001b[0m, in \u001b[0;36mFrameApply.apply_standard\u001b[0;34m(self)\u001b[0m\n\u001b[1;32m    <a href='file:///opt/homebrew/anaconda3/lib/python3.9/site-packages/pandas/core/apply.py?line=849'>850</a>\u001b[0m \u001b[39mdef\u001b[39;00m \u001b[39mapply_standard\u001b[39m(\u001b[39mself\u001b[39m):\n\u001b[0;32m--> <a href='file:///opt/homebrew/anaconda3/lib/python3.9/site-packages/pandas/core/apply.py?line=850'>851</a>\u001b[0m     results, res_index \u001b[39m=\u001b[39m \u001b[39mself\u001b[39;49m\u001b[39m.\u001b[39;49mapply_series_generator()\n\u001b[1;32m    <a href='file:///opt/homebrew/anaconda3/lib/python3.9/site-packages/pandas/core/apply.py?line=852'>853</a>\u001b[0m     \u001b[39m# wrap results\u001b[39;00m\n\u001b[1;32m    <a href='file:///opt/homebrew/anaconda3/lib/python3.9/site-packages/pandas/core/apply.py?line=853'>854</a>\u001b[0m     \u001b[39mreturn\u001b[39;00m \u001b[39mself\u001b[39m\u001b[39m.\u001b[39mwrap_results(results, res_index)\n",
      "File \u001b[0;32m/opt/homebrew/anaconda3/lib/python3.9/site-packages/pandas/core/apply.py:867\u001b[0m, in \u001b[0;36mFrameApply.apply_series_generator\u001b[0;34m(self)\u001b[0m\n\u001b[1;32m    <a href='file:///opt/homebrew/anaconda3/lib/python3.9/site-packages/pandas/core/apply.py?line=863'>864</a>\u001b[0m \u001b[39mwith\u001b[39;00m option_context(\u001b[39m\"\u001b[39m\u001b[39mmode.chained_assignment\u001b[39m\u001b[39m\"\u001b[39m, \u001b[39mNone\u001b[39;00m):\n\u001b[1;32m    <a href='file:///opt/homebrew/anaconda3/lib/python3.9/site-packages/pandas/core/apply.py?line=864'>865</a>\u001b[0m     \u001b[39mfor\u001b[39;00m i, v \u001b[39min\u001b[39;00m \u001b[39menumerate\u001b[39m(series_gen):\n\u001b[1;32m    <a href='file:///opt/homebrew/anaconda3/lib/python3.9/site-packages/pandas/core/apply.py?line=865'>866</a>\u001b[0m         \u001b[39m# ignore SettingWithCopy here in case the user mutates\u001b[39;00m\n\u001b[0;32m--> <a href='file:///opt/homebrew/anaconda3/lib/python3.9/site-packages/pandas/core/apply.py?line=866'>867</a>\u001b[0m         results[i] \u001b[39m=\u001b[39m \u001b[39mself\u001b[39;49m\u001b[39m.\u001b[39;49mf(v)\n\u001b[1;32m    <a href='file:///opt/homebrew/anaconda3/lib/python3.9/site-packages/pandas/core/apply.py?line=867'>868</a>\u001b[0m         \u001b[39mif\u001b[39;00m \u001b[39misinstance\u001b[39m(results[i], ABCSeries):\n\u001b[1;32m    <a href='file:///opt/homebrew/anaconda3/lib/python3.9/site-packages/pandas/core/apply.py?line=868'>869</a>\u001b[0m             \u001b[39m# If we have a view on v, we need to make a copy because\u001b[39;00m\n\u001b[1;32m    <a href='file:///opt/homebrew/anaconda3/lib/python3.9/site-packages/pandas/core/apply.py?line=869'>870</a>\u001b[0m             \u001b[39m#  series_generator will swap out the underlying data\u001b[39;00m\n\u001b[1;32m    <a href='file:///opt/homebrew/anaconda3/lib/python3.9/site-packages/pandas/core/apply.py?line=870'>871</a>\u001b[0m             results[i] \u001b[39m=\u001b[39m results[i]\u001b[39m.\u001b[39mcopy(deep\u001b[39m=\u001b[39m\u001b[39mFalse\u001b[39;00m)\n",
      "\u001b[1;32m/Users/jarad/codeup_data_science/statistics-exercises/simulation.ipynb Cell 17'\u001b[0m in \u001b[0;36mwinner\u001b[0;34m(row)\u001b[0m\n\u001b[1;32m     <a href='vscode-notebook-cell:/Users/jarad/codeup_data_science/statistics-exercises/simulation.ipynb#ch0000020?line=15'>16</a>\u001b[0m \u001b[39m# Keep fighting until someone goes down\u001b[39;00m\n\u001b[1;32m     <a href='vscode-notebook-cell:/Users/jarad/codeup_data_science/statistics-exercises/simulation.ipynb#ch0000020?line=16'>17</a>\u001b[0m \u001b[39mwhile\u001b[39;00m wiz1_hp \u001b[39m>\u001b[39m \u001b[39m0\u001b[39m \u001b[39mand\u001b[39;00m wiz2_hp \u001b[39m>\u001b[39m \u001b[39m0\u001b[39m:\n\u001b[0;32m---> <a href='vscode-notebook-cell:/Users/jarad/codeup_data_science/statistics-exercises/simulation.ipynb#ch0000020?line=17'>18</a>\u001b[0m     wiz1_hp \u001b[39m-\u001b[39m\u001b[39m=\u001b[39m np\u001b[39m.\u001b[39;49mrandom\u001b[39m.\u001b[39;49mchoice(\u001b[39mrange\u001b[39;49m(\u001b[39m1\u001b[39;49m,\u001b[39m5\u001b[39;49m,), \u001b[39m6\u001b[39;49m)\u001b[39m.\u001b[39;49msum(axis\u001b[39m=\u001b[39;49m\u001b[39m1\u001b[39;49m)\n\u001b[1;32m     <a href='vscode-notebook-cell:/Users/jarad/codeup_data_science/statistics-exercises/simulation.ipynb#ch0000020?line=18'>19</a>\u001b[0m     wiz2_hp \u001b[39m-\u001b[39m\u001b[39m=\u001b[39m np\u001b[39m.\u001b[39mrandom\u001b[39m.\u001b[39mchoice(\u001b[39mrange\u001b[39m(\u001b[39m1\u001b[39m,\u001b[39m7\u001b[39m), \u001b[39m4\u001b[39m)\u001b[39m.\u001b[39msum(axis\u001b[39m=\u001b[39m\u001b[39m1\u001b[39m)\n\u001b[1;32m     <a href='vscode-notebook-cell:/Users/jarad/codeup_data_science/statistics-exercises/simulation.ipynb#ch0000020?line=20'>21</a>\u001b[0m \u001b[39m# Since wiz1 goes first, if wiz 2 is down he wins.  Otherwise he loses\u001b[39;00m\n",
      "File \u001b[0;32m/opt/homebrew/anaconda3/lib/python3.9/site-packages/numpy/core/_methods.py:48\u001b[0m, in \u001b[0;36m_sum\u001b[0;34m(a, axis, dtype, out, keepdims, initial, where)\u001b[0m\n\u001b[1;32m     <a href='file:///opt/homebrew/anaconda3/lib/python3.9/site-packages/numpy/core/_methods.py?line=45'>46</a>\u001b[0m \u001b[39mdef\u001b[39;00m \u001b[39m_sum\u001b[39m(a, axis\u001b[39m=\u001b[39m\u001b[39mNone\u001b[39;00m, dtype\u001b[39m=\u001b[39m\u001b[39mNone\u001b[39;00m, out\u001b[39m=\u001b[39m\u001b[39mNone\u001b[39;00m, keepdims\u001b[39m=\u001b[39m\u001b[39mFalse\u001b[39;00m,\n\u001b[1;32m     <a href='file:///opt/homebrew/anaconda3/lib/python3.9/site-packages/numpy/core/_methods.py?line=46'>47</a>\u001b[0m          initial\u001b[39m=\u001b[39m_NoValue, where\u001b[39m=\u001b[39m\u001b[39mTrue\u001b[39;00m):\n\u001b[0;32m---> <a href='file:///opt/homebrew/anaconda3/lib/python3.9/site-packages/numpy/core/_methods.py?line=47'>48</a>\u001b[0m     \u001b[39mreturn\u001b[39;00m umr_sum(a, axis, dtype, out, keepdims, initial, where)\n",
      "\u001b[0;31mAxisError\u001b[0m: axis 1 is out of bounds for array of dimension 1"
     ]
    }
   ],
   "source": [
    "duels['wins'] = duels.apply(winner, axis=1)\n",
    "\n",
    "duels"
   ]
  },
  {
   "cell_type": "markdown",
   "metadata": {},
   "source": [
    "#### Bonus two"
   ]
  },
  {
   "cell_type": "code",
   "execution_count": null,
   "metadata": {},
   "outputs": [],
   "source": [
    "dice = [1, 2, 3, 4, 5, 6]\n",
    "roll_times = 3\n",
    "sim_size = 1\n",
    "flips = np.random.choice(coin_toss, size = (sim_size, flip_times))\n",
    "heads = flips.sum(axis = 1)\n",
    "\n",
    "three_heads = ( heads == 3)\n",
    "more_than = ( heads > 3)"
   ]
  }
 ],
 "metadata": {
  "interpreter": {
   "hash": "38cca0c38332a56087b24af0bc80247f4fced29cb4f7f437d91dc159adec9c4e"
  },
  "kernelspec": {
   "display_name": "Python 3.9.12 ('base')",
   "language": "python",
   "name": "python3"
  },
  "language_info": {
   "codemirror_mode": {
    "name": "ipython",
    "version": 3
   },
   "file_extension": ".py",
   "mimetype": "text/x-python",
   "name": "python",
   "nbconvert_exporter": "python",
   "pygments_lexer": "ipython3",
   "version": "3.9.12"
  },
  "orig_nbformat": 4
 },
 "nbformat": 4,
 "nbformat_minor": 2
}
