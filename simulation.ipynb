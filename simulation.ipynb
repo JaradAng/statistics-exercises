{
 "cells": [
  {
   "cell_type": "code",
   "execution_count": 2,
   "metadata": {},
   "outputs": [],
   "source": [
    "import pandas as pd\n",
    "import numpy as np\n"
   ]
  },
  {
   "cell_type": "code",
   "execution_count": 3,
   "metadata": {},
   "outputs": [
    {
     "data": {
      "text/plain": [
       "0.16589"
      ]
     },
     "execution_count": 3,
     "metadata": {},
     "output_type": "execute_result"
    }
   ],
   "source": [
    "# How likely is it that you roll doubles when rolling two dice?\n",
    "\n",
    "first_dice = np.random.choice([1, 2, 3, 4, 5, 6], size = 100000)\n",
    "second_dice= np.random.choice([1, 2, 3, 4, 5, 6], size = 100000)\n",
    "doubles = (first_dice == second_dice)\n",
    "doubles.mean()"
   ]
  },
  {
   "cell_type": "code",
   "execution_count": 22,
   "metadata": {},
   "outputs": [
    {
     "data": {
      "text/plain": [
       "0.637133"
      ]
     },
     "execution_count": 22,
     "metadata": {},
     "output_type": "execute_result"
    }
   ],
   "source": [
    "# If you flip 8 coins, what is the probability of getting exactly 3 heads? What is the probability of getting more than 3 heads?\n",
    "#heads = 1\n",
    "#tails = 0\n",
    "coin_toss = [1, 0]\n",
    "flip_times = 8\n",
    "sim_size = 1000000\n",
    "flips = np.random.choice(coin_toss, size = (sim_size, flip_times))\n",
    "heads = flips.sum(axis = 1)\n",
    "\n",
    "three_heads = ( heads == 3)\n",
    "more_than = ( heads > 3)\n",
    "\n",
    "three_heads.mean()\n",
    "more_than.mean()\n",
    "\n"
   ]
  },
  {
   "cell_type": "code",
   "execution_count": 18,
   "metadata": {},
   "outputs": [
    {
     "data": {
      "text/plain": [
       "0.062171"
      ]
     },
     "execution_count": 18,
     "metadata": {},
     "output_type": "execute_result"
    }
   ],
   "source": [
    "# There are approximitely 3 web development cohorts for every 1 data science cohort at Codeup. Assuming that Codeup randomly selects an alumni to put on a billboard, \n",
    "# what are the odds that the two billboards I drive past both have data science students on them\n",
    "# 25% chance of data student on builboard since 4 possibiites total with only one being a data student\n",
    "# Student either is data or not so we can assume binary result like coin flip with a 1,0 outcome\n",
    "# 1 = data student \n",
    "##selected_student = [1, 0] do not need this variable\n",
    "##\n",
    "p_of_is_data_stu = 0.25\n",
    "sim_size = n_rows = 1_000_000\n",
    "\n",
    "#sees the billboard twice so have 2 opportunities\n",
    "board_sighting = n_cols = 2\n",
    "\n",
    "drive_bys = np.random.random((sim_size, board_sighting))\n",
    "\n",
    "# there is a data student in the billoboard if the probability is less than the prob of p_of_is_data_stu\n",
    "is_data_stu = drive_bys < p_of_is_data_stu\n",
    "\n",
    "# set the axis to one 1 and then = to 2 to see if both the bilboard have a data student on it. theoretically this should be = .25 * .25 and it is\n",
    "(is_data_stu.sum(axis=1) == 2).mean()"
   ]
  },
  {
   "cell_type": "code",
   "execution_count": 33,
   "metadata": {},
   "outputs": [
    {
     "data": {
      "text/plain": [
       "0.66983"
      ]
     },
     "execution_count": 33,
     "metadata": {},
     "output_type": "execute_result"
    }
   ],
   "source": [
    "# Codeup students buy, on average, 3 poptart packages with a standard deviation of 1.5 a day from the snack vending machine. \n",
    "# If on monday the machine is restocked with 17 poptart packages, \n",
    "# how likely is it that I will be able to buy some poptarts on Friday afternoon? \n",
    "# (Remember, if you have mean and standard deviation, use the np.random.normal) You'll need to make a judgement call on how to handle some of your values\n",
    "# std = 1.5, mean = 3\n",
    "\n",
    "\n",
    "# Assume 5 cols for the 5 days of the week\n",
    "vend_visits = n_cols = 5\n",
    "n_sims = 100000\n",
    "\n",
    "buys_poptarts = np.random.normal(3, 1.5, size = (n_sims, vend_visits))\n",
    "\n",
    "# want to deal with whole numbers becuase you can't buy fraction of poptarts\n",
    "buys_poptarts = buys_poptarts.round()\n",
    "\n",
    "#adding up all the poptars bought throughout the week\n",
    "buys_poptarts = buys_poptarts.sum(axis=1)\n",
    "\n",
    "# if less than 17 there will be pop tarts to buy\n",
    "friday_chance = buys_poptarts < 17\n",
    "\n",
    "friday_chance.mean()\n",
    "#got a 67% chance that there will be poptarts left on friday"
   ]
  },
  {
   "cell_type": "code",
   "execution_count": 36,
   "metadata": {},
   "outputs": [
    {
     "data": {
      "text/plain": [
       "0.212141"
      ]
     },
     "execution_count": 36,
     "metadata": {},
     "output_type": "execute_result"
    }
   ],
   "source": [
    "# Compare Heights\n",
    "\n",
    "# Men have an average height of 178 cm and standard deviation of 8cm.\n",
    "# Women have a mean of 170, sd = 6cm.\n",
    "# Since you have means and standard deviations, you can use np.random.normal to generate observations.\n",
    "# If a man and woman are chosen at random, what is the likelihood the woman is taller than the man?\n",
    "\n",
    "# Men mean 178, std 8\n",
    "# Women mean 170, std 6 \n",
    "\n",
    "# Generate random mens height\n",
    "man_height = np.random.normal(178, 8, size = 1000000)\n",
    "\n",
    "#Generate random womens height\n",
    "woman_height = np.random.normal(170, 6, size=1000000)\n",
    "\n",
    "#see if woman is taller than man\n",
    "woman_taller = woman_height > man_height\n",
    "\n",
    "woman_taller.mean()\n",
    "# 21% chance of being taller"
   ]
  },
  {
   "cell_type": "code",
   "execution_count": 46,
   "metadata": {},
   "outputs": [
    {
     "data": {
      "text/plain": [
       "0.1642"
      ]
     },
     "execution_count": 46,
     "metadata": {},
     "output_type": "execute_result"
    }
   ],
   "source": [
    "# When installing anaconda on a student's computer, there's a 1 in 250 chance that the download is corrupted and the installation fails. \n",
    "# What are the odds that after having 50 students download anaconda, no one has an installation issue? 100 students?\n",
    "\n",
    "# What is the probability that we observe an installation issue within the first 150 students that download anaconda?\n",
    "\n",
    "# How likely is it that 450 students all download anaconda without an issue?\n",
    "rows = n_rows = 100_000\n",
    "prob_of_corruption = 1/250 # == .004\n",
    "\n",
    "prob_of_no_corr = 0.996\n",
    "\n",
    "fifty_kids = n_cols = 50\n",
    "\n",
    "hundred_kids = n_cols = 100\n",
    "\n",
    "hun_fif_kids = n_cols =150\n",
    "\n",
    "all_kids = n_cols = 450\n",
    "\n",
    "fifty_tries = np.random.random((rows, fifty_kids))\n",
    "fifty_success = fifty_tries < prob_of_no_corr\n",
    "(fifty_success.sum(axis=1)==50).mean()\n",
    "# ~82% chance of no corruption\n",
    "\n",
    "\n",
    "hundred_tries = np.random.random((rows, hundred_kids))\n",
    "hundred_success = hundred_tries < prob_of_no_corr\n",
    "(hundred_success.sum(axis=1)==100).mean()\n",
    "# 67% of no corruption\n",
    "\n",
    "hun_fif_tries = np.random.random((rows, hun_fif_kids))\n",
    "hun_fif_but_corruption = hun_fif_tries < prob_of_corruption\n",
    "(hun_fif_but_corruption.sum(axis=1) > 0).mean()\n",
    "# ~ 45% chance someone encounters an issue\n",
    "\n",
    "no_error_for_450 = np.random.random((rows, all_kids))\n",
    "all_succeed = no_error_for_450 < prob_of_no_corr\n",
    "(all_succeed.sum(axis=1)==450).mean()\n",
    "# ~16% chance that no one in 450 students experience an issue"
   ]
  },
  {
   "cell_type": "code",
   "execution_count": 52,
   "metadata": {},
   "outputs": [
    {
     "data": {
      "text/plain": [
       "0.99986"
      ]
     },
     "execution_count": 52,
     "metadata": {},
     "output_type": "execute_result"
    }
   ],
   "source": [
    "# There's a 70% chance on any given day that there will be at least one food truck at Travis Park.\n",
    "#  However, you haven't seen a food truck there in 3 days. How unlikely is this?\n",
    "\n",
    "# How likely is it that a food truck will show up sometime this week?\n",
    "#seeing truck is yes or no or 1 and 0, 1 = sees the truck\n",
    "sees_truck = [1, 0]\n",
    "prob_of_truck_in_tp = .7\n",
    "no_days_no_truck = 3\n",
    "n_rows = 100000\n",
    "\n",
    "seeing_truck = np.random.choice(sees_truck, p=[.7, .3], size = (n_rows, no_days_no_truck))\n",
    "seeing_truck\n",
    "\n",
    "really_not_seeing_a_single_truck = (seeing_truck.sum(axis=1)== 0).mean()\n",
    "\n",
    "really_not_seeing_a_single_truck\n",
    "# ~2.6% chance of not seeing truck in 3 days\n",
    "\n",
    "all_week_no_truck = 7\n",
    "\n",
    "seeing_truck_week = np.random.choice(sees_truck, p = [.7, .3], size = (n_rows, all_week_no_truck))\n",
    "no_truck_all_week  = (seeing_truck_week.sum(axis=1) > 0).mean()\n",
    "\n",
    "no_truck_all_week\n",
    "# great than 99%"
   ]
  },
  {
   "cell_type": "code",
   "execution_count": 57,
   "metadata": {},
   "outputs": [
    {
     "data": {
      "text/plain": [
       "0.50562"
      ]
     },
     "execution_count": 57,
     "metadata": {},
     "output_type": "execute_result"
    }
   ],
   "source": [
    "# If 23 people are in the same room, what are the odds that two of them share a birthday? What if it's 20 people? 40?\n",
    "# I didnt need to make the variables as it would have been easier to just type in the numbers. It allowed me to think tho\n",
    "twenty_three = 23\n",
    "\n",
    "twenty = 20\n",
    "\n",
    "forty = 40\n",
    "\n",
    "year = range(1, 365)\n",
    "\n",
    "b_day = np.random.choice(year, size = (100000, twenty_three))\n",
    "\n",
    "b_day_df = pd.DataFrame(b_day)\n",
    "\n",
    "(b_day_df.nunique(axis=1)<23).mean()"
   ]
  },
  {
   "cell_type": "code",
   "execution_count": 58,
   "metadata": {},
   "outputs": [
    {
     "data": {
      "text/plain": [
       "0.41241"
      ]
     },
     "execution_count": 58,
     "metadata": {},
     "output_type": "execute_result"
    }
   ],
   "source": [
    "b_day = np.random.choice(year, size = (100000, twenty))\n",
    "\n",
    "b_day_df = pd.DataFrame(b_day)\n",
    "\n",
    "(b_day_df.nunique(axis=1)<20).mean()"
   ]
  },
  {
   "cell_type": "code",
   "execution_count": 59,
   "metadata": {},
   "outputs": [
    {
     "data": {
      "text/plain": [
       "0.89266"
      ]
     },
     "execution_count": 59,
     "metadata": {},
     "output_type": "execute_result"
    }
   ],
   "source": [
    "b_day = np.random.choice(year, size = (100000, forty))\n",
    "\n",
    "b_day_df = pd.DataFrame(b_day)\n",
    "\n",
    "(b_day_df.nunique(axis=1)<40).mean()"
   ]
  },
  {
   "cell_type": "code",
   "execution_count": null,
   "metadata": {},
   "outputs": [],
   "source": []
  }
 ],
 "metadata": {
  "interpreter": {
   "hash": "38cca0c38332a56087b24af0bc80247f4fced29cb4f7f437d91dc159adec9c4e"
  },
  "kernelspec": {
   "display_name": "Python 3.9.12 ('base')",
   "language": "python",
   "name": "python3"
  },
  "language_info": {
   "codemirror_mode": {
    "name": "ipython",
    "version": 3
   },
   "file_extension": ".py",
   "mimetype": "text/x-python",
   "name": "python",
   "nbconvert_exporter": "python",
   "pygments_lexer": "ipython3",
   "version": "3.9.12"
  },
  "orig_nbformat": 4
 },
 "nbformat": 4,
 "nbformat_minor": 2
}
